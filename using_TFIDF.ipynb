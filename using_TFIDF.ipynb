{
 "cells": [
  {
   "cell_type": "code",
   "execution_count": 16,
   "metadata": {},
   "outputs": [],
   "source": [
    "import re\n",
    "import math\n",
    "from sklearn.feature_extraction.text import TfidfVectorizer\n",
    "from sklearn.metrics.pairwise import cosine_similarity"
   ]
  },
  {
   "cell_type": "code",
   "execution_count": 17,
   "metadata": {},
   "outputs": [],
   "source": [
    "def open_file(filepath):\n",
    "    with open(filepath, 'r', encoding='utf-8') as file:\n",
    "        text=file.read()\n",
    "    return text    "
   ]
  },
  {
   "cell_type": "code",
   "execution_count": 23,
   "metadata": {},
   "outputs": [
    {
     "name": "stdout",
     "output_type": "stream",
     "text": [
      "Similarity:1.0000\n"
     ]
    }
   ],
   "source": [
    "if __name__=='__main__':\n",
    "    filepath_1='doc_1.txt'\n",
    "    filepath_2='doc_1.txt'\n",
    "    \n",
    "    text_1=open_file(filepath_1)\n",
    "    text_2=open_file(filepath_2)\n",
    "    \n",
    "    tfidf_vectorizer=TfidfVectorizer()\n",
    "    tfidf_matrix=tfidf_vectorizer.fit_transform([text_1,text_2])\n",
    "    \n",
    "    similarity=cosine_similarity(tfidf_matrix[0],tfidf_matrix[1])\n",
    "    \n",
    "    #theta=math.acos(similarity[0][0])\n",
    "    print(f\"Similarity:{similarity[0][0]:.4f}\")\n",
    "    #print(f\"theta:{theta}\")\n",
    "    "
   ]
  },
  {
   "cell_type": "code",
   "execution_count": null,
   "metadata": {},
   "outputs": [],
   "source": []
  }
 ],
 "metadata": {
  "kernelspec": {
   "display_name": "Python 3",
   "language": "python",
   "name": "python3"
  },
  "language_info": {
   "codemirror_mode": {
    "name": "ipython",
    "version": 3
   },
   "file_extension": ".py",
   "mimetype": "text/x-python",
   "name": "python",
   "nbconvert_exporter": "python",
   "pygments_lexer": "ipython3",
   "version": "3.7.9"
  }
 },
 "nbformat": 4,
 "nbformat_minor": 4
}
