{
 "cells": [
  {
   "cell_type": "code",
   "execution_count": 1,
   "metadata": {},
   "outputs": [],
   "source": [
    "from collections import Counter\n",
    "import math\n",
    "import re"
   ]
  },
  {
   "cell_type": "code",
   "execution_count": 3,
   "metadata": {},
   "outputs": [],
   "source": [
    "def read_file(filepath):\n",
    "    with open(filepath,'r', encoding='utf-8') as file:\n",
    "        text=file.read()\n",
    "    return text"
   ]
  },
  {
   "cell_type": "code",
   "execution_count": 5,
   "metadata": {},
   "outputs": [],
   "source": [
    "def tokenize_and_count(text):\n",
    "    words=re.findall(r'w\\+', text.lower())\n",
    "    word_count=Counter(words)\n",
    "    return word_count"
   ]
  },
  {
   "cell_type": "code",
   "execution_count": 8,
   "metadata": {},
   "outputs": [],
   "source": [
    "def cosine_similarity(word_counts1,word_counts2):\n",
    "    dot_product=sum(word_counts[word]*word_counts[word] for word in set(word_counts1)&set(word_counts2))\n",
    "    \n",
    "    magnitude1=math.sqrt(sum(word_counts1[word]**2 for word in word_counts1))\n",
    "    magnitude2=math.sqrt(sum(word_counts2[word]**2 for word in word_counts2))\n",
    "    \n",
    "    similarity=dot_product/(magnitude1*magnitude2)\n",
    "    \n",
    "    return similarity"
   ]
  },
  {
   "cell_type": "code",
   "execution_count": null,
   "metadata": {},
   "outputs": [],
   "source": [
    "if __name__='__main__':\n",
    "    \n",
    "    file_path_1=\"\"\n",
    "    file_path_2=\"\"\n",
    "    "
   ]
  }
 ],
 "metadata": {
  "kernelspec": {
   "display_name": "Python 3",
   "language": "python",
   "name": "python3"
  },
  "language_info": {
   "codemirror_mode": {
    "name": "ipython",
    "version": 3
   },
   "file_extension": ".py",
   "mimetype": "text/x-python",
   "name": "python",
   "nbconvert_exporter": "python",
   "pygments_lexer": "ipython3",
   "version": "3.7.9"
  }
 },
 "nbformat": 4,
 "nbformat_minor": 4
}
